{
  "nbformat": 4,
  "nbformat_minor": 0,
  "metadata": {
    "colab": {
      "name": "学習ベース返答まで作成",
      "provenance": [],
      "collapsed_sections": [
        "Di72SMAG3eY9",
        "_DEgZc6j2qEs",
        "hgJjv0N68Kgy"
      ],
      "authorship_tag": "ABX9TyN5yysLgISUhwn85c3eZBf2",
      "include_colab_link": true
    },
    "kernelspec": {
      "name": "python3",
      "display_name": "Python 3"
    }
  },
  "cells": [
    {
      "cell_type": "markdown",
      "metadata": {
        "id": "view-in-github",
        "colab_type": "text"
      },
      "source": [
        "<a href=\"https://colab.research.google.com/github/kake01/Bot/blob/master/%E5%AD%A6%E7%BF%92%E3%83%99%E3%83%BC%E3%82%B9%E8%BF%94%E7%AD%94%E3%81%BE%E3%81%A7%E4%BD%9C%E6%88%90.ipynb\" target=\"_parent\"><img src=\"https://colab.research.google.com/assets/colab-badge.svg\" alt=\"Open In Colab\"/></a>"
      ]
    },
    {
      "cell_type": "markdown",
      "metadata": {
        "id": "ZWK4IBIJRfBO"
      },
      "source": [
        "# 環境構築"
      ]
    },
    {
      "cell_type": "code",
      "metadata": {
        "id": "k7ktf1huLsuF"
      },
      "source": [
        "!apt install aptitude\n",
        "!aptitude install mecab libmecab-dev mecab-ipadic-utf8 git make curl xz-utils file -y\n",
        "!pip install mecab-python3==0.7"
      ],
      "execution_count": null,
      "outputs": []
    },
    {
      "cell_type": "code",
      "metadata": {
        "id": "Nn45LjPGUzFC"
      },
      "source": [
        "from google.colab import drive\n",
        "from gensim.models.doc2vec import Doc2Vec, TaggedDocument\n",
        "import pickle\n",
        "import MeCab\n",
        "import random\n",
        "import pandas as pd\n",
        "wakati = MeCab.Tagger(\"-Owakati\")"
      ],
      "execution_count": 47,
      "outputs": []
    },
    {
      "cell_type": "code",
      "metadata": {
        "id": "i0rfvsRZRZ0r",
        "outputId": "ccb7283a-45fa-456f-c0ed-c01cd81f3598",
        "colab": {
          "base_uri": "https://localhost:8080/",
          "height": 34
        }
      },
      "source": [
        "drive.mount('/content/drive')"
      ],
      "execution_count": 5,
      "outputs": [
        {
          "output_type": "stream",
          "text": [
            "Mounted at /content/drive\n"
          ],
          "name": "stdout"
        }
      ]
    },
    {
      "cell_type": "markdown",
      "metadata": {
        "id": "nERdj0PqGdIC"
      },
      "source": [
        "# Dock2Vecに対応したデータへの前処理 & 返答の辞書作成"
      ]
    },
    {
      "cell_type": "code",
      "metadata": {
        "id": "7IsWezXnXu6v"
      },
      "source": [
        "sentences = []\n",
        "advise = []\n",
        "dictionary = {}\n",
        "send_ms = '朝食は抜きでした。昼食は、ラーメンとご飯を食べました。午前、午後共に、車での移動なので運動は特になし。夕食はスープとハヤシライスでした。運動は家に帰ってからの犬の散歩と、階段の上り下りです。明け方まで起きていたので、夜食に焼きそばを食べました。'\n",
        "sentence_num = 0\n",
        "with open('drive/My Drive/Health/AfterPreprocessingData.tsv', 'r', encoding='utf-8') as f:\n",
        "  lines = f.readlines()\n",
        "  for line in lines:\n",
        "    # 配列から##と\\n文字の削除\n",
        "    line = line.replace('##', '')\n",
        "    line = line.replace('\\n', '')\n",
        "    \n",
        "    # 同じ文書だった場合、辞書にレスポンスを追加\n",
        "    if send_ms == line[:line.find('|')]:\n",
        "      dictionary.setdefault(sentence_num, []).append(line[line.find('|')+1:])\n",
        "    else:\n",
        "      sentences.append(send_ms)\n",
        "      sentence_num += 1\n",
        "    send_ms = line[:line.find('|')]"
      ],
      "execution_count": 17,
      "outputs": []
    },
    {
      "cell_type": "code",
      "metadata": {
        "id": "yyaEd8qKE1mr",
        "outputId": "657a3e9f-1b2f-4d2a-9c27-5a4ddf9f2325",
        "colab": {
          "base_uri": "https://localhost:8080/",
          "height": 34
        }
      },
      "source": [
        "# print(sentences[0])\n",
        "# print(sentences[1])\n",
        "# print(sentences[2])\n",
        "# print(dictionary[1])\n",
        "print(len(sentences))"
      ],
      "execution_count": 21,
      "outputs": [
        {
          "output_type": "stream",
          "text": [
            "542\n"
          ],
          "name": "stdout"
        }
      ]
    },
    {
      "cell_type": "markdown",
      "metadata": {
        "id": "Ljb4U0qxbuZR"
      },
      "source": [
        "# ファイルの読み込み & sentenceの作成"
      ]
    },
    {
      "cell_type": "code",
      "metadata": {
        "id": "i2Hv1wT9byuJ"
      },
      "source": [
        "sentences = []\n",
        "with open('drive/My Drive/Health/Dock2VecDataSet.tsv', 'r', encoding='utf-8') as f:\n",
        "  lines = f.readlines()\n",
        "  for line in lines:\n",
        "    line = line.replace('\\n', '')\n",
        "    # 分かち書きを行う\n",
        "    test = wakati.parse(line).split()\n",
        "    sentences.append(test)"
      ],
      "execution_count": null,
      "outputs": []
    },
    {
      "cell_type": "code",
      "metadata": {
        "id": "IpKdCm2BxEz9"
      },
      "source": [
        "wakati_sentences = []\n",
        "for i in sentences:\n",
        "  test = wakati.parse(i).split()\n",
        "  wakati_sentences.append(test)"
      ],
      "execution_count": 24,
      "outputs": []
    },
    {
      "cell_type": "code",
      "metadata": {
        "id": "lxAUtBToxPn4",
        "outputId": "2cb44e94-4818-4339-ba2d-cd9fa8e3da65",
        "colab": {
          "base_uri": "https://localhost:8080/",
          "height": 88
        }
      },
      "source": [
        "print(sentences[0])\n",
        "print(sentences[1])\n",
        "print(wakati_sentences[0])"
      ],
      "execution_count": 25,
      "outputs": [
        {
          "output_type": "stream",
          "text": [
            "朝食は抜きでした。昼食は、ラーメンとご飯を食べました。午前、午後共に、車での移動なので運動は特になし。夕食はスープとハヤシライスでした。運動は家に帰ってからの犬の散歩と、階段の上り下りです。明け方まで起きていたので、夜食に焼きそばを食べました。\n",
            "朝食はオープンサンドとコーヒーでした。昼食は焼きそばとふかしいもでした。午後に掃除機をかけました。夕方にウオーキングと運動をして、そのあとスーパーに買い物に行きました。夕食は八宝菜、茶碗蒸し、味噌汁、玄米でした。赤ワインを飲みました。\n",
            "['朝食', 'は', '抜き', 'でし', 'た', '。', '昼食', 'は', '、', 'ラーメン', 'と', 'ご飯', 'を', '食べ', 'まし', 'た', '。', '午前', '、', '午後', '共に', '、', '車', 'で', 'の', '移動', 'な', 'ので', '運動', 'は', '特に', 'なし', '。', '夕食', 'は', 'スープ', 'と', 'ハヤシライス', 'でし', 'た', '。', '運動', 'は', '家', 'に', '帰っ', 'て', 'から', 'の', '犬', 'の', '散歩', 'と', '、', '階段', 'の', '上り', '下り', 'です', '。', '明け方', 'まで', '起き', 'て', 'い', 'た', 'ので', '、', '夜食', 'に', '焼きそば', 'を', '食べ', 'まし', 'た', '。']\n"
          ],
          "name": "stdout"
        }
      ]
    },
    {
      "cell_type": "markdown",
      "metadata": {
        "id": "wnjw7wE_sgU_"
      },
      "source": [
        "# Dock2Vecを使用してモデルの作成 & 保存"
      ]
    },
    {
      "cell_type": "code",
      "metadata": {
        "id": "usRwIqd2Y9vL"
      },
      "source": [
        "documents = [TaggedDocument(doc, [i]) for i, doc in enumerate(wakati_sentences)]\n",
        "model = Doc2Vec(documents, vector_size=100, window=5, min_count=1, epochs=10, workers=4)"
      ],
      "execution_count": 26,
      "outputs": []
    },
    {
      "cell_type": "markdown",
      "metadata": {
        "id": "_99pz0ZO1UTo"
      },
      "source": [
        "# 新規文章の類似度計測と返答の作成"
      ]
    },
    {
      "cell_type": "markdown",
      "metadata": {
        "id": "Di72SMAG3eY9"
      },
      "source": [
        "## 井熊のやり方"
      ]
    },
    {
      "cell_type": "code",
      "metadata": {
        "id": "nlcM4YXr3jCG"
      },
      "source": [
        "x = model.infer_vector(wakati.parse(\"どうも井熊です。\").split())\n",
        "print(model.docvecs.most_similar([x]))"
      ],
      "execution_count": null,
      "outputs": []
    },
    {
      "cell_type": "markdown",
      "metadata": {
        "id": "Drqno5Ns3rw8"
      },
      "source": [
        "## 先生のやり方"
      ]
    },
    {
      "cell_type": "code",
      "metadata": {
        "id": "D1wW8u1s5ohi",
        "outputId": "c4afeecf-35c3-46ab-ac69-31f4ff1da39d",
        "colab": {
          "base_uri": "https://localhost:8080/",
          "height": 68
        }
      },
      "source": [
        "def ResponseText(text):\n",
        "  max_value = 0\n",
        "  max_num = 0\n",
        "  text_wakati = wakati.parse(text).split()\n",
        "  for i in range(len(wakati_sentences)):\n",
        "    sim_value = model.docvecs.similarity_unseen_docs(model, text_wakati, wakati_sentences[i], alpha=1, min_alpha=0.0001, steps=5)\n",
        "    if max_value < sim_value:\n",
        "      max_value = sim_value\n",
        "      max_num = i\n",
        "\n",
        "    rand = random.randint(0,len(dictionary[i]))\n",
        "  return dictionary[max_num][rand]\n",
        "  #類似度Max\n",
        "  #return sentences[i]\n",
        "\n",
        "\"\"\"\n",
        "while True:\n",
        "  text = input(\">>>\")\n",
        "  if text == \"終了\":\n",
        "    break\n",
        "\"\"\"\n",
        "\n",
        "anser = ResponseText(\"今日は起床が遅く、朝ごはんが抜きで昼はカップ麺でした。夜は自炊をしハンバーガーを食べた。野菜はほとんど食べなかった。運動はしていない。\")\n",
        "print(anser)"
      ],
      "execution_count": 73,
      "outputs": [
        {
          "output_type": "stream",
          "text": [
            "/usr/local/lib/python3.6/dist-packages/gensim/matutils.py:737: FutureWarning: Conversion of the second argument of issubdtype from `int` to `np.signedinteger` is deprecated. In future, it will be treated as `np.int64 == np.dtype(int).type`.\n",
            "  if np.issubdtype(vec.dtype, np.int):\n"
          ],
          "name": "stderr"
        },
        {
          "output_type": "stream",
          "text": [
            "冬の健康料理はなんといっても鍋です。\n"
          ],
          "name": "stdout"
        }
      ]
    },
    {
      "cell_type": "code",
      "metadata": {
        "id": "5w-y27Fb314P",
        "outputId": "5c95cf62-8bfa-4c3b-912e-15718ec24b7e",
        "colab": {
          "base_uri": "https://localhost:8080/",
          "height": 88
        }
      },
      "source": [
        "def DebugResponseText(text):\n",
        "  max_value = 0\n",
        "  max_num = 0\n",
        "  text_wakati = wakati.parse(text).split()\n",
        "  for i in range(len(wakati_sentences)):\n",
        "    sim_value = model.docvecs.similarity_unseen_docs(model, text_wakati, wakati_sentences[i], alpha=1, min_alpha=0.0001, steps=5)\n",
        "    if max_value < sim_value:\n",
        "      max_value = sim_value\n",
        "      max_num = i\n",
        "    #max_value = max(max_value, sim_value)\n",
        "  return max_value, max_num, wakati_sentences[max_num],sentences[max_num]\n",
        "  #類似度Max\n",
        "  #return sentences[i]\n",
        "\n",
        "\"\"\"\n",
        "while True:\n",
        "  text = input(\">>>\")\n",
        "  if text == \"終了\":\n",
        "    break\n",
        "\"\"\"\n",
        "\n",
        "anser = DebugResponseText(\"今日は起床が遅く、朝食をとる時間が無く食べませんでした。昼はコンビニで買ったサンドイッチを食べました。夜は野菜を多めに摂りました。\")\n",
        "print(anser)"
      ],
      "execution_count": 43,
      "outputs": [
        {
          "output_type": "stream",
          "text": [
            "/usr/local/lib/python3.6/dist-packages/gensim/matutils.py:737: FutureWarning: Conversion of the second argument of issubdtype from `int` to `np.signedinteger` is deprecated. In future, it will be treated as `np.int64 == np.dtype(int).type`.\n",
            "  if np.issubdtype(vec.dtype, np.int):\n"
          ],
          "name": "stderr"
        },
        {
          "output_type": "stream",
          "text": [
            "(0.9852368, 448, ['朝', 'は', 'パン', 'を', '食べ', 'まし', 'た', '。', '昼', 'は', '日', '替り', 'の', 'お', '弁当', 'を', '食べ', 'まし', 'た', '。', '夜', 'は', 'パン', 'と', '肉まん', 'を', '食べ', 'まし', 'た', '。', '運動', 'は', '通勤', 'を', '兼ね', 'て', '往復', '一', '時間', '歩い', 'て', 'い', 'ます', '。'], '朝はパンを食べました。昼は日替りのお弁当を食べました。夜はパンと肉まんを食べました。運動は通勤を兼ねて往復一時間歩いています。')\n"
          ],
          "name": "stdout"
        }
      ]
    },
    {
      "cell_type": "markdown",
      "metadata": {
        "id": "_DEgZc6j2qEs"
      },
      "source": [
        "# 実験のゴミ"
      ]
    },
    {
      "cell_type": "markdown",
      "metadata": {
        "id": "hgJjv0N68Kgy"
      },
      "source": [
        "## most_similarを使用"
      ]
    },
    {
      "cell_type": "code",
      "metadata": {
        "id": "78Ihphq1Jgq9",
        "outputId": "ab6df3b2-c01f-4f0f-fc52-a598972cb94a",
        "colab": {
          "base_uri": "https://localhost:8080/",
          "height": 0
        }
      },
      "source": [
        "def process_query(query):\n",
        "  text_wakati = wakati.parse(query).split()\n",
        "  return text_wakati\n",
        "\n",
        "query = \"今日は起床が遅く、朝食をとる時間が無く食べませんでした。昼はコンビニで買ったサンドイッチを食べました。夜は野菜を多めに摂りました。\"\n",
        "l = process_query(query)\n",
        "sim = model.most_similar(positive=l,topn=10)\n",
        "print(sim)"
      ],
      "execution_count": 29,
      "outputs": [
        {
          "output_type": "stream",
          "text": [
            "[('カレー', 0.9996607899665833), ('焼きそば', 0.9994827508926392), ('お昼', 0.9994096159934998), ('夕食', 0.9993243217468262), ('ラーメン', 0.9991921186447144), ('おでん', 0.9991458654403687), ('うどん', 0.9991227388381958), ('パスタ', 0.9989135265350342), ('カレーライス', 0.9986866116523743), ('肉まん', 0.9986369609832764)]\n"
          ],
          "name": "stdout"
        },
        {
          "output_type": "stream",
          "text": [
            "/usr/local/lib/python3.6/dist-packages/ipykernel_launcher.py:7: DeprecationWarning: Call to deprecated `most_similar` (Method will be removed in 4.0.0, use self.wv.most_similar() instead).\n",
            "  import sys\n",
            "/usr/local/lib/python3.6/dist-packages/gensim/matutils.py:737: FutureWarning: Conversion of the second argument of issubdtype from `int` to `np.signedinteger` is deprecated. In future, it will be treated as `np.int64 == np.dtype(int).type`.\n",
            "  if np.issubdtype(vec.dtype, np.int):\n"
          ],
          "name": "stderr"
        }
      ]
    },
    {
      "cell_type": "markdown",
      "metadata": {
        "id": "tcJoSSOEo24C"
      },
      "source": [
        "## 実際にモデルを使用して類似度検索を行う"
      ]
    },
    {
      "cell_type": "code",
      "metadata": {
        "id": "5l8EPihhlX5h"
      },
      "source": [
        "# 朝食と昼食の類似度\n",
        "print(model.docvecs.most_similar(0))\n",
        "print(model.docvecs.similarity(0,0))"
      ],
      "execution_count": null,
      "outputs": []
    },
    {
      "cell_type": "code",
      "metadata": {
        "id": "yHxW41CZkDLN",
        "outputId": "74501704-bfce-487d-bcb4-6841ea08ecbc",
        "colab": {
          "base_uri": "https://localhost:8080/",
          "height": 139
        }
      },
      "source": [
        "def SameSentence(text):\n",
        "    text_wakati = wakati.parse(text).split()\n",
        "    print(text_wakati)\n",
        "    # documents = [TaggedDocument(doc, [i]) for i, doc in enumerate(text_wakati)]\n",
        "    # print(documents)\n",
        "    # similarity = model.similarity(documents,0)\n",
        "    # print(model.docvecs.most_similar([\"myfizzbuzz.py\"]))\n",
        "    # test = model.most_similar(documents)\n",
        "    test = model.most_similar(text_wakati)\n",
        "    return test\n",
        "\n",
        "print(SameSentence(\"今日は起床が遅く、朝食をとる時間が無く食べませんでした。昼はコンビニで買ったサンドイッチを食べました。夜は野菜を多めに摂りました。\"))"
      ],
      "execution_count": 34,
      "outputs": [
        {
          "output_type": "stream",
          "text": [
            "['今日', 'は', '起床', 'が', '遅く', '、', '朝食', 'を', 'とる', '時間', 'が', '無く', '食べ', 'ませ', 'ん', 'でし', 'た', '。', '昼', 'は', 'コンビニ', 'で', '買っ', 'た', 'サンドイッチ', 'を', '食べ', 'まし', 'た', '。', '夜', 'は', '野菜', 'を', '多め', 'に', '摂り', 'まし', 'た', '。']\n",
            "[('カレー', 0.9996607899665833), ('焼きそば', 0.9994827508926392), ('お昼', 0.9994096159934998), ('夕食', 0.9993243217468262), ('ラーメン', 0.9991921186447144), ('おでん', 0.9991458654403687), ('うどん', 0.9991227388381958), ('パスタ', 0.9989135265350342), ('カレーライス', 0.9986866116523743), ('肉まん', 0.9986369609832764)]\n"
          ],
          "name": "stdout"
        },
        {
          "output_type": "stream",
          "text": [
            "/usr/local/lib/python3.6/dist-packages/ipykernel_launcher.py:9: DeprecationWarning: Call to deprecated `most_similar` (Method will be removed in 4.0.0, use self.wv.most_similar() instead).\n",
            "  if __name__ == '__main__':\n",
            "/usr/local/lib/python3.6/dist-packages/gensim/matutils.py:737: FutureWarning: Conversion of the second argument of issubdtype from `int` to `np.signedinteger` is deprecated. In future, it will be treated as `np.int64 == np.dtype(int).type`.\n",
            "  if np.issubdtype(vec.dtype, np.int):\n"
          ],
          "name": "stderr"
        }
      ]
    }
  ]
}