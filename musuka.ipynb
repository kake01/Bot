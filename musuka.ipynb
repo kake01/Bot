{
  "nbformat": 4,
  "nbformat_minor": 0,
  "metadata": {
    "colab": {
      "name": "musuka.ipynb",
      "provenance": [],
      "collapsed_sections": [],
      "authorship_tag": "ABX9TyNzoTCeVgTap6YTV5BwWa+h",
      "include_colab_link": true
    },
    "kernelspec": {
      "name": "python3",
      "display_name": "Python 3"
    }
  },
  "cells": [
    {
      "cell_type": "markdown",
      "metadata": {
        "id": "view-in-github",
        "colab_type": "text"
      },
      "source": [
        "<a href=\"https://colab.research.google.com/github/kake01/Bot/blob/master/musuka.ipynb\" target=\"_parent\"><img src=\"https://colab.research.google.com/assets/colab-badge.svg\" alt=\"Open In Colab\"/></a>"
      ]
    },
    {
      "cell_type": "code",
      "metadata": {
        "id": "uIW6f0txCZ6_",
        "colab_type": "code",
        "outputId": "0eb580c9-4cf4-4ccb-82c5-34a14f85c17e",
        "colab": {
          "base_uri": "https://localhost:8080/",
          "height": 35
        }
      },
      "source": [
        "#ドライブをマウントする\n",
        "from google.colab import drive\n",
        "drive.mount('/content/drive')"
      ],
      "execution_count": 0,
      "outputs": [
        {
          "output_type": "stream",
          "text": [
            "Drive already mounted at /content/drive; to attempt to forcibly remount, call drive.mount(\"/content/drive\", force_remount=True).\n"
          ],
          "name": "stdout"
        }
      ]
    },
    {
      "cell_type": "code",
      "metadata": {
        "id": "1Vr0RZdJlfIV",
        "colab_type": "code",
        "colab": {}
      },
      "source": [
        "# テキストデータの分割\n",
        "import sys\n",
        "import os\n",
        "import chardet\n",
        "import tensorflow as tf\n",
        "import os.path\n",
        "\n",
        "from os.path import join, splitext, split\n",
        "\n",
        "# 入力ディレクトリと出力ディレクトリを指定\n",
        "readdir = sys.argv[1]\n",
        "outdir =\"drive/My Drive/Bot/Serif\"\n",
        "\n",
        "# 天空の城ラピュタのテキストデータを代入\n",
        "file_data = open('drive/My Drive/Bot/TextData.txt', 'r',encoding='utf-8')\n",
        "lines = file_data.readlines()\n",
        "\n",
        "#読み込んだテキストファイルを１行ずつ表示\n",
        "for line in lines:\n",
        "\n",
        "# キャラ名を取得\n",
        "    char_name = line[:line.find(u\"「\")]\n",
        "    outfname = os.path.join(outdir, char_name + \".txt\")\n",
        "#キャラ名のファイルがあるかどうか確認\n",
        "    if os.path.exists(outfname):\n",
        "        # ある場合は上書きモードで\n",
        "        outfp = open(outfname, \"a\")\n",
        "    else:\n",
        "        # ない場合は新規作成\n",
        "        outfp = open(outfname, \"w\")\n",
        "        \n",
        "    # セリフのみ抽出\n",
        "    line_format = line[line.find(u\"「\") + 1:line.find(u\"」\")] + \"\\n\"\n",
        "    # セリフ書き込み\n",
        "    outfp.write(line_format)\n"
      ],
      "execution_count": 0,
      "outputs": []
    },
    {
      "cell_type": "code",
      "metadata": {
        "id": "46Jh3TLUFDiY",
        "colab_type": "code",
        "outputId": "02c23302-eb3d-45ed-e395-7dffcbb45cef",
        "colab": {
          "base_uri": "https://localhost:8080/",
          "height": 98
        }
      },
      "source": [
        "pip install janome"
      ],
      "execution_count": 2,
      "outputs": [
        {
          "output_type": "stream",
          "text": [
            "Collecting janome\n",
            "\u001b[?25l  Downloading https://files.pythonhosted.org/packages/79/f0/bd7f90806132d7d9d642d418bdc3e870cfdff5947254ea3cab27480983a7/Janome-0.3.10-py2.py3-none-any.whl (21.5MB)\n",
            "\u001b[K     |████████████████████████████████| 21.5MB 11.3MB/s \n",
            "\u001b[?25hInstalling collected packages: janome\n",
            "Successfully installed janome-0.3.10\n"
          ],
          "name": "stdout"
        }
      ]
    },
    {
      "cell_type": "code",
      "metadata": {
        "id": "BaBKgIQ1C5Vo",
        "colab_type": "code",
        "outputId": "b6988e18-5879-4b5a-b2b8-c8972c414ce1",
        "colab": {
          "base_uri": "https://localhost:8080/",
          "height": 700
        }
      },
      "source": [
        "from janome.tokenizer import Tokenizer\n",
        "t = Tokenizer()\n",
        "for token in t.tokenize(u'パズー君。君を誤解していた。許してくれたまえ。君がこの方を海賊から守るために、奮戦してくれたとは知らなかったんだ。'):\n",
        "\n",
        "  print(token)\n"
      ],
      "execution_count": 5,
      "outputs": [
        {
          "output_type": "stream",
          "text": [
            "パズー\t名詞,一般,*,*,*,*,パズー,*,*\n",
            "君\t名詞,接尾,人名,*,*,*,君,クン,クン\n",
            "。\t記号,句点,*,*,*,*,。,。,。\n",
            "君\t名詞,代名詞,一般,*,*,*,君,キミ,キミ\n",
            "を\t助詞,格助詞,一般,*,*,*,を,ヲ,ヲ\n",
            "誤解\t名詞,サ変接続,*,*,*,*,誤解,ゴカイ,ゴカイ\n",
            "し\t動詞,自立,*,*,サ変・スル,連用形,する,シ,シ\n",
            "て\t助詞,接続助詞,*,*,*,*,て,テ,テ\n",
            "い\t動詞,非自立,*,*,一段,連用形,いる,イ,イ\n",
            "た\t助動詞,*,*,*,特殊・タ,基本形,た,タ,タ\n",
            "。\t記号,句点,*,*,*,*,。,。,。\n",
            "許し\t動詞,自立,*,*,五段・サ行,連用形,許す,ユルシ,ユルシ\n",
            "て\t助詞,接続助詞,*,*,*,*,て,テ,テ\n",
            "くれ\t動詞,非自立,*,*,一段・クレル,連用形,くれる,クレ,クレ\n",
            "た\t助動詞,*,*,*,特殊・タ,基本形,た,タ,タ\n",
            "ま\tフィラー,*,*,*,*,*,ま,マ,マ\n",
            "え\tフィラー,*,*,*,*,*,え,エ,エ\n",
            "。\t記号,句点,*,*,*,*,。,。,。\n",
            "君\t名詞,代名詞,一般,*,*,*,君,キミ,キミ\n",
            "が\t助詞,格助詞,一般,*,*,*,が,ガ,ガ\n",
            "この\t連体詞,*,*,*,*,*,この,コノ,コノ\n",
            "方\t名詞,非自立,一般,*,*,*,方,ホウ,ホー\n",
            "を\t助詞,格助詞,一般,*,*,*,を,ヲ,ヲ\n",
            "海賊\t名詞,一般,*,*,*,*,海賊,カイゾク,カイゾク\n",
            "から\t助詞,格助詞,一般,*,*,*,から,カラ,カラ\n",
            "守る\t動詞,自立,*,*,五段・ラ行,基本形,守る,マモル,マモル\n",
            "ため\t名詞,非自立,副詞可能,*,*,*,ため,タメ,タメ\n",
            "に\t助詞,格助詞,一般,*,*,*,に,ニ,ニ\n",
            "、\t記号,読点,*,*,*,*,、,、,、\n",
            "奮戦\t名詞,サ変接続,*,*,*,*,奮戦,フンセン,フンセン\n",
            "し\t動詞,自立,*,*,サ変・スル,連用形,する,シ,シ\n",
            "て\t助詞,接続助詞,*,*,*,*,て,テ,テ\n",
            "くれ\t動詞,非自立,*,*,一段・クレル,連用形,くれる,クレ,クレ\n",
            "た\t助動詞,*,*,*,特殊・タ,基本形,た,タ,タ\n",
            "と\t助詞,格助詞,引用,*,*,*,と,ト,ト\n",
            "は\t助詞,係助詞,*,*,*,*,は,ハ,ワ\n",
            "知ら\t動詞,自立,*,*,五段・ラ行,未然形,知る,シラ,シラ\n",
            "なかっ\t助動詞,*,*,*,特殊・ナイ,連用タ接続,ない,ナカッ,ナカッ\n",
            "た\t助動詞,*,*,*,特殊・タ,基本形,た,タ,タ\n",
            "ん\t名詞,非自立,一般,*,*,*,ん,ン,ン\n",
            "だ\t助動詞,*,*,*,特殊・ダ,基本形,だ,ダ,ダ\n",
            "。\t記号,句点,*,*,*,*,。,。,。\n"
          ],
          "name": "stdout"
        }
      ]
    },
    {
      "cell_type": "code",
      "metadata": {
        "id": "xNfBBkqSQkKa",
        "colab_type": "code",
        "outputId": "e3aadac0-5e90-415d-a7d5-9968a2e61bee",
        "colab": {
          "base_uri": "https://localhost:8080/",
          "height": 700
        }
      },
      "source": [
        "text = 'パズー君。君を誤解していた。許してくれたまえ。君がこの方を海賊から守るために、奮戦してくれたとは知らなかったんだ。'\n",
        "t.tokenize(text, wakati= True)"
      ],
      "execution_count": 8,
      "outputs": [
        {
          "output_type": "execute_result",
          "data": {
            "text/plain": [
              "['パズー',\n",
              " '君',\n",
              " '。',\n",
              " '君',\n",
              " 'を',\n",
              " '誤解',\n",
              " 'し',\n",
              " 'て',\n",
              " 'い',\n",
              " 'た',\n",
              " '。',\n",
              " '許し',\n",
              " 'て',\n",
              " 'くれ',\n",
              " 'た',\n",
              " 'ま',\n",
              " 'え',\n",
              " '。',\n",
              " '君',\n",
              " 'が',\n",
              " 'この',\n",
              " '方',\n",
              " 'を',\n",
              " '海賊',\n",
              " 'から',\n",
              " '守る',\n",
              " 'ため',\n",
              " 'に',\n",
              " '、',\n",
              " '奮戦',\n",
              " 'し',\n",
              " 'て',\n",
              " 'くれ',\n",
              " 'た',\n",
              " 'と',\n",
              " 'は',\n",
              " '知ら',\n",
              " 'なかっ',\n",
              " 'た',\n",
              " 'ん',\n",
              " 'だ',\n",
              " '。']"
            ]
          },
          "metadata": {
            "tags": []
          },
          "execution_count": 8
        }
      ]
    }
  ]
}