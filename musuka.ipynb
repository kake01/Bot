{
  "nbformat": 4,
  "nbformat_minor": 0,
  "metadata": {
    "colab": {
      "name": "musuka.ipynb",
      "provenance": [],
      "collapsed_sections": [],
      "authorship_tag": "ABX9TyN1NpbADzSullaZtDm+4tsf",
      "include_colab_link": true
    },
    "kernelspec": {
      "name": "python3",
      "display_name": "Python 3"
    }
  },
  "cells": [
    {
      "cell_type": "markdown",
      "metadata": {
        "id": "view-in-github",
        "colab_type": "text"
      },
      "source": [
        "<a href=\"https://colab.research.google.com/github/kake01/Bot/blob/master/musuka.ipynb\" target=\"_parent\"><img src=\"https://colab.research.google.com/assets/colab-badge.svg\" alt=\"Open In Colab\"/></a>"
      ]
    },
    {
      "cell_type": "code",
      "metadata": {
        "id": "uIW6f0txCZ6_",
        "colab_type": "code",
        "outputId": "6b746399-3262-45b0-da04-78061940b7fc",
        "colab": {
          "base_uri": "https://localhost:8080/",
          "height": 33
        }
      },
      "source": [
        "#ドライブをマウントする\n",
        "from google.colab import drive\n",
        "drive.mount('/content/drive')"
      ],
      "execution_count": 0,
      "outputs": [
        {
          "output_type": "stream",
          "text": [
            "Drive already mounted at /content/drive; to attempt to forcibly remount, call drive.mount(\"/content/drive\", force_remount=True).\n"
          ],
          "name": "stdout"
        }
      ]
    },
    {
      "cell_type": "code",
      "metadata": {
        "id": "46Jh3TLUFDiY",
        "colab_type": "code",
        "outputId": "d4ee2c4c-2308-4db8-df99-e42038eb04c7",
        "colab": {
          "base_uri": "https://localhost:8080/",
          "height": 33
        }
      },
      "source": [
        "# 蛇の目インストール\n",
        "pip install janome"
      ],
      "execution_count": 103,
      "outputs": [
        {
          "output_type": "stream",
          "text": [
            "Requirement already satisfied: janome in /usr/local/lib/python3.6/dist-packages (0.3.10)\n"
          ],
          "name": "stdout"
        }
      ]
    },
    {
      "cell_type": "code",
      "metadata": {
        "id": "U5iWHpmZjQAe",
        "colab_type": "code",
        "colab": {}
      },
      "source": [
        "# 関数関係\n",
        "from collections import Counter\n",
        "from collections import defaultdict\n",
        "import random\n",
        "\n",
        "\n",
        "BEGIN = '__BEGIN__'\n",
        "END = '__END__'\n",
        "\n",
        "\n",
        "\"\"\" 文章を3単語の組にして返す\"\"\"\n",
        "def get_three_words_list(sentence):\n",
        "  t = Tokenizer()\n",
        "  words = t.tokenize(sentence, wakati=True)\n",
        "  words = [BEGIN] + words + [END]\n",
        "  three_words_list = []\n",
        "  for i in range(len(words) - 2):\n",
        "    three_words_list.append(tuple(words[i:i+3]))\n",
        "\n",
        "  return three_words_list\n",
        "\n",
        "\n",
        "\"\"\" マルコス連鎖での文章生成用の辞書データを生成する \"\"\"\n",
        "def generate_markov_dict(three_words_conut):\n",
        "  markov_dict = {}\n",
        "  for three_words, count in three_words_conut.items():\n",
        "    two_words = three_words[:2]\n",
        "    next_word = three_words[2]\n",
        "    if two_words not in markov_dict:\n",
        "      markov_dict[two_words] = {'words': [], 'weights': []}\n",
        "    markov_dict[two_words]['words'].append(next_word)\n",
        "    markov_dict[two_words]['weights'].append(count)\n",
        "  \n",
        "  return markov_dict\n",
        "\n",
        "\n",
        "\"\"\" 最初の単語を選択するための辞書データを作成する \"\"\"\n",
        "def get_first_word_and_count(three_words_conut):\n",
        "\n",
        "  first_word_count = defaultdict(int)\n",
        "\n",
        "  for three_words, count in three_words_conut.items():\n",
        "    if three_words[0] == BEGIN:\n",
        "      next_word = three_words[1]\n",
        "      first_word_count[next_word] += count\n",
        "\n",
        "  return first_word_count\n",
        "\n",
        "\n",
        "\"\"\" 最初の単語を選択するための辞書データを作成する \"\"\"\n",
        "def get_first_word_and_count(three_words_conut):\n",
        "  first_word_count = defaultdict(int)\n",
        "\n",
        "  for three_words, count in three_words_conut.items():\n",
        "    if three_words[0] == BEGIN:\n",
        "      next_word = three_words[1]\n",
        "      first_word_count[next_word] += count\n",
        "  return first_word_count\n",
        "\n",
        "\n",
        "\"\"\" 最初の単語と重みのリストを作成する　\"\"\"\n",
        "def get_first_words_weights(three_words_conut):\n",
        "  first_word_count = get_first_word_and_count(three_words_conut)\n",
        "  words = []\n",
        "  weights = []\n",
        "  for word, count in first_word_count.items():\n",
        "    words.append(word)\n",
        "    weights.append(count)\n",
        "\n",
        "  return words, weights\n",
        "\n",
        "\n",
        "\"\"\" 入力された辞書データを元に文章を生成する \"\"\"\n",
        "def generate_text(first_words, first_weights, markov_dict):\n",
        "  first_word = random.choices(first_words, weights = first_weights)[0]\n",
        "  generate_words = [BEGIN, first_word]\n",
        "  while True:\n",
        "    pair = tuple(generate_words[-2:])\n",
        "    words = markov_dict[pair]['words']\n",
        "    weights = markov_dict[pair]['weights']\n",
        "    next_word = random.choices(words, weights=weights)[0]\n",
        "    if next_word == END:\n",
        "      break\n",
        "    generate_words.append(next_word)\n",
        "\n",
        "  return ''.join(generate_words[1:])"
      ],
      "execution_count": 0,
      "outputs": []
    },
    {
      "cell_type": "code",
      "metadata": {
        "id": "9bPADZ2wI01F",
        "colab_type": "code",
        "colab": {
          "base_uri": "https://localhost:8080/",
          "height": 53
        },
        "outputId": "c6c39dad-f5c4-4a1b-bc97-aa3f9dec055a"
      },
      "source": [
        "# サンプル\n",
        "sentences = ['おいしいビールを飲もう', 'ビールを飲もう', 'おいしいビールは生']\n",
        "three_words_list = []\n",
        "\n",
        "for sentence in sentences:\n",
        "  three_words_list += get_three_words_list(sentence)\n",
        "three_words_conut = Counter(three_words_list)\n",
        "\n",
        "markov_dict = generate_markov_dict(three_words_conut)\n",
        "# get_first_word_and_count(three_words_conut)\n",
        "first_words, first_weights = get_first_words_weights(three_words_conut)\n",
        "\n",
        "print(markov_dict)\n",
        "# print(first_words)\n",
        "# print(first_weights)\n",
        "\n",
        "# 文字列を生成する\n",
        "# for _ in range(5):\n",
        "#   text = generate_text(first_words, first_weights, markov_dict)\n",
        "#   print(text)"
      ],
      "execution_count": 248,
      "outputs": [
        {
          "output_type": "stream",
          "text": [
            "{('__BEGIN__', 'おいしい'): {'words': ['ビール'], 'weights': [2]}, ('おいしい', 'ビール'): {'words': ['を', 'は'], 'weights': [1, 1]}, ('ビール', 'を'): {'words': ['飲も'], 'weights': [2]}, ('を', '飲も'): {'words': ['う'], 'weights': [2]}, ('飲も', 'う'): {'words': ['__END__'], 'weights': [2]}, ('__BEGIN__', 'ビール'): {'words': ['を'], 'weights': [1]}, ('ビール', 'は'): {'words': ['生'], 'weights': [1]}, ('は', '生'): {'words': ['__END__'], 'weights': [1]}}\n"
          ],
          "name": "stdout"
        }
      ]
    },
    {
      "cell_type": "code",
      "metadata": {
        "id": "OZNVN0lAhYUP",
        "colab_type": "code",
        "colab": {}
      },
      "source": [
        "# テキストデータの前処理\n",
        "# 1文章を配列に入れる\n",
        "import time\n",
        "from tqdm import tqdm\n",
        "import sys\n",
        "import os\n",
        "import chardet\n",
        "import os.path\n",
        "import pprint\n",
        "import re\n",
        "from os.path import join, splitext, split\n",
        "\n",
        "sentences1 = []\n",
        "three_words_list = []\n",
        "\n",
        "path = 'drive/My Drive/Bot/Serif/ムスカ.txt'\n",
        "file_data = open(path, 'r',encoding='utf-8')\n",
        "\n",
        "# 1文章を配列に入れる\n",
        "for line in file_data:\n",
        "  line_format = line[:line.find(\"。\")]\n",
        "  sentences1.append(line_format)\n",
        "\n",
        "for sentence in tqdm(sentences1):\n",
        "  three_words_list += get_three_words_list(sentence)\n",
        "three_words_conut = Counter(three_words_list)\n",
        "\n",
        "# ムスカ生成\n",
        "markov_dict1 = generate_markov_dict(three_words_conut)\n",
        "first_words1, first_weights1 = get_first_words_weights(three_words_conut)\n",
        "print(markov_dict1)\n",
        "\n"
      ],
      "execution_count": 0,
      "outputs": []
    },
    {
      "cell_type": "code",
      "metadata": {
        "colab_type": "code",
        "id": "5JTDlSS4J-0_",
        "colab": {
          "base_uri": "https://localhost:8080/",
          "height": 98
        },
        "outputId": "9bef5b2d-ab47-41f2-ea6c-f8be353e7f12"
      },
      "source": [
        "# 文字列を生成する\n",
        "for _ in range(5):\n",
        "  text = generate_text(first_words, first_weights, markov_dict1)\n",
        "  print(text)"
      ],
      "execution_count": 266,
      "outputs": [
        {
          "output_type": "stream",
          "text": [
            "ラピュタの力を持つ、ロボットの兵隊だよ...\n",
            "すばらしい\n",
            "はっっはっはっはっは、シータさんの悪い癖だ\n",
            "ラピュタはかつて、恐るべき科学力で天空にあり、全地上を支配した、天の火だよ\n",
            "全世界は再びラピュタの力を持つ、ロボットの兵隊だよ\n"
          ],
          "name": "stdout"
        }
      ]
    }
  ]
}