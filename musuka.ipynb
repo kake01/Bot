{
  "nbformat": 4,
  "nbformat_minor": 0,
  "metadata": {
    "colab": {
      "name": "musuka.ipynb",
      "provenance": [],
      "collapsed_sections": [],
      "authorship_tag": "ABX9TyN82JTQM5jy2NO9NSlWZYBv",
      "include_colab_link": true
    },
    "kernelspec": {
      "name": "python3",
      "display_name": "Python 3"
    }
  },
  "cells": [
    {
      "cell_type": "markdown",
      "metadata": {
        "id": "view-in-github",
        "colab_type": "text"
      },
      "source": [
        "<a href=\"https://colab.research.google.com/github/kake01/Bot/blob/master/musuka.ipynb\" target=\"_parent\"><img src=\"https://colab.research.google.com/assets/colab-badge.svg\" alt=\"Open In Colab\"/></a>"
      ]
    },
    {
      "cell_type": "code",
      "metadata": {
        "id": "uIW6f0txCZ6_",
        "colab_type": "code",
        "outputId": "0eb580c9-4cf4-4ccb-82c5-34a14f85c17e",
        "colab": {
          "base_uri": "https://localhost:8080/",
          "height": 35
        }
      },
      "source": [
        "#ドライブをマウントする\n",
        "from google.colab import drive\n",
        "drive.mount('/content/drive')"
      ],
      "execution_count": 0,
      "outputs": [
        {
          "output_type": "stream",
          "text": [
            "Drive already mounted at /content/drive; to attempt to forcibly remount, call drive.mount(\"/content/drive\", force_remount=True).\n"
          ],
          "name": "stdout"
        }
      ]
    },
    {
      "cell_type": "code",
      "metadata": {
        "id": "1Vr0RZdJlfIV",
        "colab_type": "code",
        "colab": {}
      },
      "source": [
        "# テキストデータの分割\n",
        "import sys\n",
        "import os\n",
        "import chardet\n",
        "import tensorflow as tf\n",
        "import os.path\n",
        "\n",
        "from os.path import join, splitext, split\n",
        "\n",
        "# 入力ディレクトリと出力ディレクトリを指定\n",
        "readdir = sys.argv[1]\n",
        "outdir =\"drive/My Drive/Bot/Serif\"\n",
        "\n",
        "# 天空の城ラピュタのテキストデータを代入\n",
        "file_data = open('drive/My Drive/Bot/TextData.txt', 'r',encoding='utf-8')\n",
        "lines = file_data.readlines()\n",
        "\n",
        "#読み込んだテキストファイルを１行ずつ表示\n",
        "for line in lines:\n",
        "\n",
        "# キャラ名を取得\n",
        "    char_name = line[:line.find(u\"「\")]\n",
        "    outfname = os.path.join(outdir, char_name + \".txt\")\n",
        "#キャラ名のファイルがあるかどうか確認\n",
        "    if os.path.exists(outfname):\n",
        "        # ある場合は上書きモードで\n",
        "        outfp = open(outfname, \"a\")\n",
        "    else:\n",
        "        # ない場合は新規作成\n",
        "        outfp = open(outfname, \"w\")\n",
        "        \n",
        "    # セリフのみ抽出\n",
        "    line_format = line[line.find(u\"「\") + 1:line.find(u\"」\")] + \"\\n\"\n",
        "    # セリフ書き込み\n",
        "    outfp.write(line_format)\n"
      ],
      "execution_count": 0,
      "outputs": []
    },
    {
      "cell_type": "code",
      "metadata": {
        "id": "46Jh3TLUFDiY",
        "colab_type": "code",
        "outputId": "e9225d85-2049-41a5-9a2d-b34ef716638b",
        "colab": {
          "base_uri": "https://localhost:8080/",
          "height": 33
        }
      },
      "source": [
        "# 蛇の目インストール\n",
        "pip install janome"
      ],
      "execution_count": 0,
      "outputs": [
        {
          "output_type": "stream",
          "text": [
            "Requirement already satisfied: janome in /usr/local/lib/python3.6/dist-packages (0.3.10)\n"
          ],
          "name": "stdout"
        }
      ]
    },
    {
      "cell_type": "code",
      "metadata": {
        "id": "BaBKgIQ1C5Vo",
        "colab_type": "code",
        "colab": {}
      },
      "source": [
        "from janome.tokenizer import Tokenizer\n",
        "t = Tokenizer()\n",
        "for token in t.tokenize(u'パズー君。君を誤解していた。許してくれたまえ。君がこの方を海賊から守るために、奮戦してくれたとは知らなかったんだ。'):\n",
        "  print(token)\n",
        "\n",
        "# text = 'パズー君。君を誤解していた。許してくれたまえ。君がこの方を海賊から守るために、奮戦してくれたとは知らなかったんだ。'\n",
        "# t.tokenize(text, wakati= True)"
      ],
      "execution_count": 0,
      "outputs": []
    },
    {
      "cell_type": "code",
      "metadata": {
        "id": "U5iWHpmZjQAe",
        "colab_type": "code",
        "outputId": "3093f844-255e-4a53-ef1a-1fc17110db4f",
        "colab": {
          "base_uri": "https://localhost:8080/",
          "height": 180
        }
      },
      "source": [
        "from collections import Counter\n",
        "\n",
        "BEGIN = '__BEGIN__'\n",
        "END = '__END__'\n",
        "\n",
        "\"\"\" 文章を3単語の組にして返す\"\"\"\n",
        "def get_three_words_list(sentence):\n",
        "  t = Tokenizer()\n",
        "  words = t.tokenize(sentence, wakati = True)\n",
        "  words = [BEGIN] + words + [END]\n",
        "  three_words_list = []\n",
        "  for i in range(len(words) - 2):\n",
        "    three_words_list.append(tuple(words[i:i+3]))\n",
        "  return three_words_list\n",
        "\n",
        "\n",
        "sentences = ['おいしいビールを飲もう', 'ビールを飲もう','おいしいビールは生']\n",
        "print(sentences)\n",
        "three_words_list = []\n",
        "for sentence in sentences:\n",
        "  three_words_list += get_three_words_list(sentence)\n",
        "three_words_conut = Counter(three_words_list)\n",
        "three_words_conut\n",
        "\n",
        "\n"
      ],
      "execution_count": 0,
      "outputs": [
        {
          "output_type": "stream",
          "text": [
            "['おいしいビールを飲もう', 'ビールを飲もう', 'おいしいビールは生']\n"
          ],
          "name": "stdout"
        },
        {
          "output_type": "execute_result",
          "data": {
            "text/plain": [
              "Counter({('__BEGIN__', 'おいしい', 'ビール'): 2,\n",
              "         ('__BEGIN__', 'ビール', 'を'): 1,\n",
              "         ('おいしい', 'ビール', 'は'): 1,\n",
              "         ('おいしい', 'ビール', 'を'): 1,\n",
              "         ('は', '生', '__END__'): 1,\n",
              "         ('を', '飲も', 'う'): 2,\n",
              "         ('ビール', 'は', '生'): 1,\n",
              "         ('ビール', 'を', '飲も'): 2,\n",
              "         ('飲も', 'う', '__END__'): 2})"
            ]
          },
          "metadata": {
            "tags": []
          },
          "execution_count": 52
        }
      ]
    },
    {
      "cell_type": "code",
      "metadata": {
        "id": "AK3shoOhDWIK",
        "colab_type": "code",
        "colab": {
          "base_uri": "https://localhost:8080/",
          "height": 33
        },
        "outputId": "1dd5f3aa-0c68-44be-a25f-4d9587daf87c"
      },
      "source": [
        "\"\"\" マルコス連鎖での文章生成用の辞書データを生成する \"\"\"\n",
        "def generate_markov_dict(three_words_conut):\n",
        "  markov_dict = {}\n",
        "  for three_words, count in three_words_conut.items():\n",
        "    two_words = three_words[:2]\n",
        "    next_word = three_words[2]\n",
        "    if two_words not in markov_dict:\n",
        "      markov_dict[two_words] = {'words': [], 'weights': []}\n",
        "    markov_dict[two_words]['words'].append(next_word)\n",
        "    markov_dict[two_words]['weights'].append(count)\n",
        "  \n",
        "  return markov_dict\n",
        "\n",
        "markov_dict = generate_markov_dict(three_words_conut)\n",
        "markov_dict"
      ],
      "execution_count": 57,
      "outputs": [
        {
          "output_type": "execute_result",
          "data": {
            "text/plain": [
              "defaultdict(int, {'おいしい': 2, 'ビール': 1})"
            ]
          },
          "metadata": {
            "tags": []
          },
          "execution_count": 57
        }
      ]
    },
    {
      "cell_type": "code",
      "metadata": {
        "id": "yRWSYnCQoePE",
        "colab_type": "code",
        "colab": {
          "base_uri": "https://localhost:8080/",
          "height": 33
        },
        "outputId": "17409f95-58cb-4f9d-e4ce-d2dcab085240"
      },
      "source": [
        "from collections import defaultdict\n",
        "\n",
        "def get_first_word_and_count(three_words_conut):\n",
        "  \"\"\" 最初の単語を選択するための辞書データを作成する \"\"\"\n",
        "  first_word_count = defaultdict(int)\n",
        "\n",
        "  for three_words, count in three_words_conut.items():\n",
        "    if three_words[0] == BEGIN:\n",
        "      next_word = three_words[1]\n",
        "      first_word_count[next_word] += count\n",
        "  return first_word_count\n",
        "\n",
        "get_first_word_and_count(three_words_conut)"
      ],
      "execution_count": 56,
      "outputs": [
        {
          "output_type": "execute_result",
          "data": {
            "text/plain": [
              "defaultdict(int, {'おいしい': 2, 'ビール': 1})"
            ]
          },
          "metadata": {
            "tags": []
          },
          "execution_count": 56
        }
      ]
    },
    {
      "cell_type": "code",
      "metadata": {
        "id": "bZ5JEnfQH5VA",
        "colab_type": "code",
        "colab": {
          "base_uri": "https://localhost:8080/",
          "height": 33
        },
        "outputId": "7e0e6992-78ad-44f4-c6e4-fb31e843c8b7"
      },
      "source": [
        "# p151\n",
        "def get_first_word_weights(three_words_conut):\n",
        "  \"\"\" 最初の単語と重みのリストを作成する　\"\"\"\n",
        "  first_word_count = get_first_word_and_count(three_words_conut)\n",
        "  words = []\n",
        "  weights = []\n",
        "  for word, count in first_word_count.items():\n",
        "    words.append(word)\n",
        "    weights.append(count)\n",
        "\n",
        "  return words, weights\n",
        "\n",
        "\n",
        "first_words, first_weights = get_first_word_weights(three_words_conut)\n",
        "first_words, first_weights"
      ],
      "execution_count": 62,
      "outputs": [
        {
          "output_type": "execute_result",
          "data": {
            "text/plain": [
              "(['おいしい', 'ビール'], [2, 1])"
            ]
          },
          "metadata": {
            "tags": []
          },
          "execution_count": 62
        }
      ]
    },
    {
      "cell_type": "code",
      "metadata": {
        "id": "qEMgqdYOTQF2",
        "colab_type": "code",
        "colab": {}
      },
      "source": [
        "import random\n",
        "\n",
        "def generate_text(first_words, first_weights, markov_dict):\n",
        "  \"\"\" 入力された辞書データを元に文章を生成する \"\"\"\n",
        "  first_word = random.choices(first_words, weights = first_weights)[0]\n",
        "  generate_words = [BEGIN, first_word]\n",
        "  while True:\n",
        "    pair = tuple(generate_words[-2:])\n",
        "    words = markov_dict[pair]['words']\n",
        "    weights = markov_dict[pair]['weights']\n",
        "    next_word = random.choices(words, weights=weights)[0]\n",
        "    if next_word == END:\n",
        "      break\n",
        "    generate_words.append(next_word)\n",
        "\n",
        "  return ''.join(generate_words[1:])"
      ],
      "execution_count": 0,
      "outputs": []
    },
    {
      "cell_type": "code",
      "metadata": {
        "id": "iklK8Je5WhuQ",
        "colab_type": "code",
        "colab": {}
      },
      "source": [
        "for _ in range(5):\n",
        "  text = generate_text(first_words, first_weights, markov_dict)\n",
        "  print(text)"
      ],
      "execution_count": 0,
      "outputs": []
    },
    {
      "cell_type": "code",
      "metadata": {
        "id": "OZNVN0lAhYUP",
        "colab_type": "code",
        "colab": {}
      },
      "source": [
        "import time\n",
        "from tqdm import tqdm\n",
        "\n",
        "three_words_list = []\n",
        "# p159から再開\n",
        "\n",
        "# テキストデータをもう少し前処理しないとダメかも?\n"
      ],
      "execution_count": 0,
      "outputs": []
    }
  ]
}